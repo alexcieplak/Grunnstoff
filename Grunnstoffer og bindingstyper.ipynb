{
 "cells": [
  {
   "cell_type": "markdown",
   "metadata": {},
   "source": [
    "# Grunnstoffer og bindingstyper\n",
    "a) Lag en klasse Grunnstoff med klassevariablene a num som er atomnummeret, sym som symbolet, navn som er navnet, masse som er atommassen\n",
    "i u og el neg som er elektronegativiteten.\n"
   ]
  },
  {
   "cell_type": "code",
   "execution_count": 1,
   "metadata": {},
   "outputs": [],
   "source": [
    "from pylab import*\n",
    "\n",
    "class Grunnstoff: \n",
    "    def __init__ (self, a_num, sym, navn, masse, el_neg):\n",
    "        self.a_num = a_num\n",
    "        self.sym = sym\n",
    "        self.navn = navn \n",
    "        self.masse = masse \n",
    "        self.el_neg = el_neg \n",
    "    def sjekk(self): \n",
    "        return self.a_num, self.sym, self.navn, self.masse, self.el_neg  "
   ]
  },
  {
   "cell_type": "markdown",
   "metadata": {},
   "source": [
    "Her har jeg laget en klasse jeg har kalt Grunnstoff med alle de oppgitte klassevariablene. I tillegg til selve initaliseringsfunksjonen, har jeg også en \"sjekk\" funksjon son returnerer alle de ulike verdiene som er listet. \n",
    "\n",
    "\n",
    "b) Lag karbon, litium, fluor, brom, klor, kalium, oksygen og hydrogen ved å lage objekter (instanser) av klassen."
   ]
  },
  {
   "cell_type": "code",
   "execution_count": 3,
   "metadata": {},
   "outputs": [],
   "source": [
    "Karbon = Grunnstoff(6,\"C\", \"Karbon\", 12.01, 2.5)\n",
    "\n",
    "Litium = Grunnstoff(3, \"Li\", \"Litium\", 6.941, 1.0)\n",
    "\n",
    "Fluor = Grunnstoff(9, \"F\", \"Fluor\", 19.00, 4.0)\n",
    "\n",
    "Brom = Grunnstoff(35, \"Br\", \"Brom\", 79.9, 3.0)\n",
    "\n",
    "Klor = Grunnstoff(17, \"Cl\", \"Klor\", 35.45, 3.2)\n",
    "\n",
    "Kalium = Grunnstoff(19, \"K\", \"Kalium\", 39.10, 0.8)\n",
    "\n",
    "Oksygen = Grunnstoff(8, \"O\", \"Oksygen\", 16.00, 3.5)\n",
    "\n",
    "Hydrogen = Grunnstoff(1, \"H\", \"Hydrogen\", 1.008, 2.1)"
   ]
  },
  {
   "cell_type": "markdown",
   "metadata": {},
   "source": [
    "Her har jeg definert alle de ulike grunnstoffene som er listet opp i oppgaven. Men den eneste vierdien som trengs videre i oppgaven er elektronegativiteten, de andre har ikke så mye å si i dette tilfellet. \n",
    "\n",
    "c) Lag en funksjon bindingstype(grunnstoff1,grunnstoff2) som tar to objekter fra klassen Grunnstoff og returnerer en tekststreng med bindingstypen."
   ]
  },
  {
   "cell_type": "code",
   "execution_count": 4,
   "metadata": {},
   "outputs": [],
   "source": [
    "def bindingstype(grunnstoff1, grunnstoff2):\n",
    "    bipbop = grunnstoff1.el_neg\n",
    "    heihei = grunnstoff2.el_neg\n",
    "    forskjell = heihei -bipbop\n",
    "    if forskjell >= 2.0 :\n",
    "        print(\"Dette er en ionebinding\")\n",
    "    elif forskjell < 2.0 and forskjell > 1.6 :\n",
    "        print(\"Dette kan være en ionisk binding og en polar kovalent binding\")\n",
    "    elif forskjell <= 1.6 and forskjell >= 0.5 : \n",
    "        print(\"Dette er en polar binding\") \n",
    "    elif forskjell <  0.5 and forskjell > 0.3 : \n",
    "        print(\"Denne bindingen er mellom en polar og en polar kovalent\")\n",
    "    elif forskjell <= 0.3: \n",
    "        print(\"Dette er en upolar kovalent binding\")"
   ]
  },
  {
   "cell_type": "markdown",
   "metadata": {},
   "source": [
    "Her har jeg laget en egen funksjon utenfor klassen som har to grunnstoffer som parametere. Før if-beslutningene, har jeg definert variablene bipbop og heihei som elektronegativiteten til de ulike grunnstoffene, og forskjellen som elektronegativiteten til det ene grunnstoffet minus elektronegativiteten til det andre grunnstoffet. Herfra bruker jeg bare tabellen oppgitt i oppgaven og skriver de ulike betingelsene som oppgir hvaslags bindinger som blir dannet. \n",
    "\n",
    "d) Bruk funksjonen bindingstype til å finne ut hva slags binding det er i LiF, BrCl, K2O og CH4 (metan)"
   ]
  },
  {
   "cell_type": "code",
   "execution_count": 5,
   "metadata": {},
   "outputs": [
    {
     "name": "stdout",
     "output_type": "stream",
     "text": [
      "LiF:\n",
      "Dette er en ionebinding\n",
      "\n",
      "BrCl:\n",
      "Dette er en upolar kovalent binding\n",
      "\n",
      "K2O:\n",
      "Dette er en ionebinding\n",
      "\n",
      "CH4:\n",
      "Dette er en upolar kovalent binding\n"
     ]
    }
   ],
   "source": [
    "print(\"LiF:\")\n",
    "LiF =  bindingstype(Litium, Fluor)\n",
    "\n",
    "print(\"\\nBrCl:\")\n",
    "LiF =  bindingstype(Brom, Klor)\n",
    "\n",
    "print(\"\\nK2O:\")\n",
    "LiF =  bindingstype(Kalium, Oksygen)\n",
    "\n",
    "print(\"\\nCH4:\")\n",
    "LiF =  bindingstype(Karbon, Hydrogen)\n"
   ]
  },
  {
   "cell_type": "markdown",
   "metadata": {},
   "source": [
    "Her har jeg bare kalt på funksjonen ved å sette inn de ulike grunnstoffene i funksjonen. Det blir printet ut hvaslags bindinger som befinner seg mellom atomene. "
   ]
  },
  {
   "cell_type": "code",
   "execution_count": null,
   "metadata": {},
   "outputs": [],
   "source": []
  }
 ],
 "metadata": {
  "kernelspec": {
   "display_name": "Python 3",
   "language": "python",
   "name": "python3"
  },
  "language_info": {
   "codemirror_mode": {
    "name": "ipython",
    "version": 3
   },
   "file_extension": ".py",
   "mimetype": "text/x-python",
   "name": "python",
   "nbconvert_exporter": "python",
   "pygments_lexer": "ipython3",
   "version": "3.7.4"
  }
 },
 "nbformat": 4,
 "nbformat_minor": 2
}
